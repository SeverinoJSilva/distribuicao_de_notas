{
 "cells": [
  {
   "cell_type": "markdown",
   "id": "902a4149",
   "metadata": {},
   "source": [
    "# Distribuidor de Notas\n",
    "### Código em Python para Distribuir de forma aleatória um valor por uma quantidade de Notas:\n",
    "    - Condição: Valor e quantidade numa combinação matemática possível."
   ]
  },
  {
   "cell_type": "markdown",
   "id": "83966330",
   "metadata": {},
   "source": [
    "## Problema:\n",
    "### Um usuário de um sistema solicitou ajuda para automatizar a seguinte rotina:\n",
    "    A partir de um valor em reais e de uma quantidade específica de notas:\n",
    "    Conseguir fazer a distribuição desse valor em cédulas 2 até 200 reais a partir de um número exato de notas."
   ]
  },
  {
   "cell_type": "markdown",
   "id": "fc622529",
   "metadata": {},
   "source": [
    "## Bibliotecas Necessárias"
   ]
  },
  {
   "cell_type": "code",
   "execution_count": 1,
   "id": "307308ef",
   "metadata": {},
   "outputs": [],
   "source": [
    "import pandas as pd\n",
    "import random"
   ]
  },
  {
   "cell_type": "markdown",
   "id": "da729d36",
   "metadata": {},
   "source": [
    "## Célula para informar a distribuição:"
   ]
  },
  {
   "cell_type": "code",
   "execution_count": 2,
   "id": "9b9e09b4",
   "metadata": {},
   "outputs": [],
   "source": [
    "valor = 3754\n",
    "quantidade = 74"
   ]
  },
  {
   "cell_type": "markdown",
   "id": "40ff10f9",
   "metadata": {},
   "source": [
    "## Código para Retornar uma distribuição:"
   ]
  },
  {
   "cell_type": "code",
   "execution_count": 3,
   "id": "12533d89",
   "metadata": {},
   "outputs": [
    {
     "name": "stdout",
     "output_type": "stream",
     "text": [
      "\n",
      "Valor Atingido: 3754\n",
      "Quantidade Atingida: 74\n",
      "200     9\n",
      "100    13\n",
      "50      6\n",
      "20      8\n",
      "10     11\n",
      "5      10\n",
      "2      17\n",
      "dtype: int64\n"
     ]
    }
   ],
   "source": [
    "# Função para selecionar aleatoriamente as notas\n",
    "def combina(valor, quantidade):\n",
    "    notas_disp = [200, 100, 50, 20, 10, 5, 2]\n",
    "    notas_selecionadas = []\n",
    "    \n",
    "    while valor > 0 and quantidade > 0:\n",
    "        nota_valida = [nota for nota in notas_disp if nota <= valor]\n",
    "        \n",
    "        if not nota_valida:\n",
    "            break\n",
    "        nota_escolhida = random.choice(nota_valida)\n",
    "        valor -= nota_escolhida\n",
    "        quantidade -= 1\n",
    "        notas_selecionadas.append(nota_escolhida)\n",
    "        \n",
    "    if valor == 0 and quantidade == 0:\n",
    "        return notas_selecionadas\n",
    "    else:\n",
    "        return None\n",
    "\n",
    "# Parâmetros de valor e quantidade\n",
    "# Loop para fazer até encontrar a combinação possível ou atingir as 1000 tentativas\n",
    "tentativas = 0\n",
    "encontrado = False\n",
    "while tentativas < 1000:\n",
    "    lista = combina(valor, quantidade)\n",
    "    if lista is not None:\n",
    "        if sum(lista) == valor and len(lista) == quantidade:\n",
    "            print('\\nValor Atingido:', sum(lista))\n",
    "            print('Quantidade Atingida:', len(lista))\n",
    "            counts = pd.DataFrame(lista).value_counts().sort_index(ascending=False)\n",
    "            print(counts)\n",
    "            encontrado = True\n",
    "            break  # Encerra o loop se encontrar uma combinação válida\n",
    "    tentativas += 1\n",
    "if not encontrado:\n",
    "    print('Não foi possível encontrar uma combinação válida.')"
   ]
  },
  {
   "cell_type": "code",
   "execution_count": null,
   "id": "52febe89",
   "metadata": {},
   "outputs": [],
   "source": []
  }
 ],
 "metadata": {
  "kernelspec": {
   "display_name": "Python 3 (ipykernel)",
   "language": "python",
   "name": "python3"
  },
  "language_info": {
   "codemirror_mode": {
    "name": "ipython",
    "version": 3
   },
   "file_extension": ".py",
   "mimetype": "text/x-python",
   "name": "python",
   "nbconvert_exporter": "python",
   "pygments_lexer": "ipython3",
   "version": "3.10.9"
  }
 },
 "nbformat": 4,
 "nbformat_minor": 5
}
